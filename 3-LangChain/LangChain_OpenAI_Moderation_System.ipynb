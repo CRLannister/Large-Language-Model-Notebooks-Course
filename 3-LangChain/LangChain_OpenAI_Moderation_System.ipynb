{
  "cells": [
    {
      "cell_type": "markdown",
      "metadata": {
        "id": "view-in-github",
        "colab_type": "text"
      },
      "source": [
        "<a href=\"https://colab.research.google.com/github/peremartra/Large-Language-Model-Notebooks-Course/blob/main/3-LangChain/LangChain_OpenAI_Moderation_System.ipynb\" target=\"_parent\"><img src=\"https://colab.research.google.com/assets/colab-badge.svg\" alt=\"Open In Colab\"/></a>"
      ]
    },
    {
      "cell_type": "markdown",
      "source": [
        "<div align=\"center\">\n",
        "<h1><a href=\"https://github.com/peremartra/Large-Language-Model-Notebooks-Course\">LLM Hands On Course</a></h1>\n",
        "    <h3>Understand And Apply Large Language Models</h3>\n",
        "    <h2>Create a Moderation system with LangChain and OpenAI.</h2>\n",
        "    <p>by <b>Pere Martra</b></p>\n",
        "</div>\n",
        "\n",
        "<br>\n",
        "\n",
        "<div align=\"center\">\n",
        "    &nbsp;\n",
        "    <a target=\"_blank\" href=\"https://www.linkedin.com/in/pere-martra/\"><img src=\"https://img.shields.io/badge/style--5eba00.svg?label=LinkedIn&logo=linkedin&style=social\"></a>\n",
        "    \n",
        "</div>\n",
        "\n",
        "<br>\n",
        "<hr>"
      ],
      "metadata": {
        "id": "NmKV7nA_w7Y3"
      },
      "id": "NmKV7nA_w7Y3"
    },
    {
      "cell_type": "markdown",
      "source": [
        "# How To Create a Moderation System Using LangChain.\n",
        "\n",
        "We are goin to create a Moderation System based in two Models. The first Model  reads the User comments and answer them.\n",
        "\n",
        "The second language Model receives the answer of the first model and identify any kind on negativity modifiyng if necessary the comment.\n",
        "\n",
        "With the intention of preventing a text entry by the user from influencing a negative or out-of-tone response from the comment system."
      ],
      "metadata": {
        "id": "ou6VyCbgzAnu"
      },
      "id": "ou6VyCbgzAnu"
    },
    {
      "cell_type": "code",
      "execution_count": 1,
      "id": "b64d83f8",
      "metadata": {
        "id": "b64d83f8",
        "colab": {
          "base_uri": "https://localhost:8080/"
        },
        "outputId": "6eae7dab-a8d8-4125-c6da-71bd12c9ef99"
      },
      "outputs": [
        {
          "output_type": "stream",
          "name": "stdout",
          "text": [
            "\u001b[2K     \u001b[90m━━━━━━━━━━━━━━━━━━━━━━━━━━━━━━━━━━━━━━━━\u001b[0m \u001b[32m798.0/798.0 kB\u001b[0m \u001b[31m3.7 MB/s\u001b[0m eta \u001b[36m0:00:00\u001b[0m\n",
            "\u001b[2K     \u001b[90m━━━━━━━━━━━━━━━━━━━━━━━━━━━━━━━━━━━━━━━━\u001b[0m \u001b[32m1.6/1.6 MB\u001b[0m \u001b[31m8.9 MB/s\u001b[0m eta \u001b[36m0:00:00\u001b[0m\n",
            "\u001b[2K     \u001b[90m━━━━━━━━━━━━━━━━━━━━━━━━━━━━━━━━━━━━━━━━\u001b[0m \u001b[32m216.6/216.6 kB\u001b[0m \u001b[31m7.6 MB/s\u001b[0m eta \u001b[36m0:00:00\u001b[0m\n",
            "\u001b[2K     \u001b[90m━━━━━━━━━━━━━━━━━━━━━━━━━━━━━━━━━━━━━━━━\u001b[0m \u001b[32m48.3/48.3 kB\u001b[0m \u001b[31m2.8 MB/s\u001b[0m eta \u001b[36m0:00:00\u001b[0m\n",
            "\u001b[2K     \u001b[90m━━━━━━━━━━━━━━━━━━━━━━━━━━━━━━━━━━━━━━━━\u001b[0m \u001b[32m49.4/49.4 kB\u001b[0m \u001b[31m3.8 MB/s\u001b[0m eta \u001b[36m0:00:00\u001b[0m\n",
            "\u001b[2K     \u001b[90m━━━━━━━━━━━━━━━━━━━━━━━━━━━━━━━━━━━━━━━━\u001b[0m \u001b[32m212.1/212.1 kB\u001b[0m \u001b[31m3.8 MB/s\u001b[0m eta \u001b[36m0:00:00\u001b[0m\n",
            "\u001b[2K     \u001b[90m━━━━━━━━━━━━━━━━━━━━━━━━━━━━━━━━━━━━━━━━\u001b[0m \u001b[32m2.0/2.0 MB\u001b[0m \u001b[31m31.8 MB/s\u001b[0m eta \u001b[36m0:00:00\u001b[0m\n",
            "\u001b[2K     \u001b[90m━━━━━━━━━━━━━━━━━━━━━━━━━━━━━━━━━━━━━━━━\u001b[0m \u001b[32m75.9/75.9 kB\u001b[0m \u001b[31m4.6 MB/s\u001b[0m eta \u001b[36m0:00:00\u001b[0m\n",
            "\u001b[2K     \u001b[90m━━━━━━━━━━━━━━━━━━━━━━━━━━━━━━━━━━━━━━━━\u001b[0m \u001b[32m76.9/76.9 kB\u001b[0m \u001b[31m8.4 MB/s\u001b[0m eta \u001b[36m0:00:00\u001b[0m\n",
            "\u001b[2K     \u001b[90m━━━━━━━━━━━━━━━━━━━━━━━━━━━━━━━━━━━━━━━━\u001b[0m \u001b[32m58.3/58.3 kB\u001b[0m \u001b[31m5.2 MB/s\u001b[0m eta \u001b[36m0:00:00\u001b[0m\n",
            "\u001b[?25h\u001b[31mERROR: pip's dependency resolver does not currently take into account all the packages that are installed. This behaviour is the source of the following dependency conflicts.\n",
            "llmx 0.0.15a0 requires cohere, which is not installed.\n",
            "tensorflow-probability 0.22.0 requires typing-extensions<4.6.0, but you have typing-extensions 4.9.0 which is incompatible.\u001b[0m\u001b[31m\n",
            "\u001b[0m"
          ]
        }
      ],
      "source": [
        "#Install de LangChain and openai libraries.\n",
        "!pip install -q langchain==0.1.0\n",
        "!pip install -q langchain-openai==0.0.2\n"
      ]
    },
    {
      "cell_type": "markdown",
      "source": [
        "## Importing LangChain Libraries.\n",
        "* PrompTemplate: provides functionality to create prompts with parameters.\n",
        "* OpenAI:  To interact with the OpenAI models.\n",
        "* LLMChain: To create chains, where the prompts or the results can pass from one step to another inside the chain."
      ],
      "metadata": {
        "id": "f7BJehSLKY3l"
      },
      "id": "f7BJehSLKY3l"
    },
    {
      "cell_type": "code",
      "execution_count": 2,
      "id": "c46865d3",
      "metadata": {
        "id": "c46865d3"
      },
      "outputs": [],
      "source": [
        "#PrompTemplate is a custom class that provides funcrionality to create prompts\n",
        "from langchain import PromptTemplate\n",
        "from langchain.chat_models import ChatOpenAI\n",
        "from langchain.chains import LLMChain"
      ]
    },
    {
      "cell_type": "code",
      "execution_count": 3,
      "id": "9b6f596d",
      "metadata": {
        "id": "9b6f596d"
      },
      "outputs": [],
      "source": [
        "import torch\n",
        "import os\n",
        "import numpy as np"
      ]
    },
    {
      "cell_type": "markdown",
      "source": [
        "We need an OpenAI key to interac with the OpenAI API.\n",
        "\n",
        "Here you can acces to your keys.\n",
        "https://platform.openai.com/account/api-keys\n",
        "\n",
        "OpenAI it's a pay service and you need a credit card to get a Key. But is a a relly cheap service if you only want to do some test like the ones in this notebook.\n",
        "\n",
        "I'm using the gpt-3.5 as a moderator.\n"
      ],
      "metadata": {
        "id": "CPBCSDNIK9A_"
      },
      "id": "CPBCSDNIK9A_"
    },
    {
      "cell_type": "code",
      "source": [
        "from getpass import getpass\n",
        "os.environ[\"OPENAI_API_KEY\"] = getpass(\"OpenAI API Key: \")\n"
      ],
      "metadata": {
        "id": "_aOzLspNK6oF",
        "colab": {
          "base_uri": "https://localhost:8080/"
        },
        "outputId": "581acee6-c2b4-4b61-fb22-a860c41e394e"
      },
      "id": "_aOzLspNK6oF",
      "execution_count": 4,
      "outputs": [
        {
          "name": "stdout",
          "output_type": "stream",
          "text": [
            "OpenAI API Key: ··········\n"
          ]
        }
      ]
    },
    {
      "cell_type": "code",
      "source": [
        "assistant_llm = ChatOpenAI(model=\"gpt-3.5-turbo\")"
      ],
      "metadata": {
        "colab": {
          "base_uri": "https://localhost:8080/"
        },
        "id": "JtpT0hdNgpei",
        "outputId": "5c3b8aa6-35e7-417f-db29-17e0cc26f4d4"
      },
      "id": "JtpT0hdNgpei",
      "execution_count": 5,
      "outputs": [
        {
          "output_type": "stream",
          "name": "stderr",
          "text": [
            "/usr/local/lib/python3.10/dist-packages/langchain_core/_api/deprecation.py:117: LangChainDeprecationWarning: The class `langchain_community.chat_models.openai.ChatOpenAI` was deprecated in langchain-community 0.0.10 and will be removed in 0.2.0. An updated version of the class exists in the langchain-openai package and should be used instead. To use it run `pip install -U langchain-openai` and import as `from langchain_openai import ChatOpenAI`.\n",
            "  warn_deprecated(\n"
          ]
        }
      ]
    },
    {
      "cell_type": "markdown",
      "source": [
        "Create the template for the first model called **assistant**.\n",
        "\n",
        "The prompt receives 2 variables, the sentiment and the customer_request, or customer comment.\n",
        "\n",
        "I included the sentiment to facilitate the creation of rude or incorrect answers."
      ],
      "metadata": {
        "id": "WenwSqA8rCun"
      },
      "id": "WenwSqA8rCun"
    },
    {
      "cell_type": "code",
      "execution_count": 47,
      "id": "1f807bde",
      "metadata": {
        "id": "1f807bde"
      },
      "outputs": [],
      "source": [
        "# Instruction how the LLM must respond the comments,\n",
        "assistant_template = \"\"\"\n",
        "You are {sentiment} assistant that responds to user comments,\n",
        "using similar vocabulary than the user.\n",
        "User:\" {customer_request}\"\n",
        "Comment:\n",
        "\"\"\""
      ]
    },
    {
      "cell_type": "code",
      "execution_count": 48,
      "id": "da37640c",
      "metadata": {
        "id": "da37640c"
      },
      "outputs": [],
      "source": [
        "#Create the prompt template to use in the Chain for the first Model.\n",
        "assistant_prompt_template = PromptTemplate(\n",
        "    input_variables=[\"sentiment\", \"customer_request\"],\n",
        "    template=assistant_template\n",
        ")"
      ]
    },
    {
      "cell_type": "markdown",
      "source": [
        "Now we create a First Chain. Just chaining the assistant_prompt_template and the model. The model will receive the prompt generated with the prompt_template.  "
      ],
      "metadata": {
        "id": "DqfeK6Cvy6u1"
      },
      "id": "DqfeK6Cvy6u1"
    },
    {
      "cell_type": "code",
      "execution_count": 49,
      "id": "9913a830",
      "metadata": {
        "id": "9913a830"
      },
      "outputs": [],
      "source": [
        "assistant_chain = LLMChain(\n",
        "    llm=assistant_llm,\n",
        "    prompt=assistant_prompt_template,\n",
        "    output_key=\"assistant_response\",\n",
        "    verbose=False,\n",
        ")\n",
        "#the output of the formatted prompt will pass directly to the LLM."
      ]
    },
    {
      "cell_type": "markdown",
      "source": [
        "To execute the chain created it's necessary to call the **.run** method of the chain, and pass the variables necessaries.\n",
        "\n",
        "In our case: *customer_request* and *sentiment*."
      ],
      "metadata": {
        "id": "Ed_1oKYDUKnT"
      },
      "id": "Ed_1oKYDUKnT"
    },
    {
      "cell_type": "code",
      "execution_count": 50,
      "id": "c1fd579b-c712-49b9-a125-98d515fc4ec2",
      "metadata": {
        "id": "c1fd579b-c712-49b9-a125-98d515fc4ec2"
      },
      "outputs": [],
      "source": [
        "#Support function to obtain a response to a user comment.\n",
        "def create_dialog(customer_request, sentiment):\n",
        "    #calling the .invoke method from the chain created Above.\n",
        "    assistant_response = assistant_chain.invoke(\n",
        "        {\"customer_request\": customer_request,\n",
        "        \"sentiment\": sentiment}\n",
        "    )\n",
        "    return assistant_response"
      ]
    },
    {
      "cell_type": "markdown",
      "source": [
        "## Obtain answers from our first Model Unmoderated.\n",
        "\n",
        "The customer post is really rude, we are looking for a rude answer from our Model, and to obtain it we are changing the sentiment."
      ],
      "metadata": {
        "id": "qm3hKo1vUq3-"
      },
      "id": "qm3hKo1vUq3-"
    },
    {
      "cell_type": "code",
      "execution_count": 51,
      "id": "1c149402",
      "metadata": {
        "id": "1c149402"
      },
      "outputs": [],
      "source": [
        "# This is the customer request, or customer comment in the forum moderated by the agent.\n",
        "# feel free to modify it.\n",
        "customer_request = \"\"\"This product is a piece of shit. I feel like an Idiot!\"\"\"\n"
      ]
    },
    {
      "cell_type": "code",
      "execution_count": 52,
      "id": "3da106c6-79ab-4fd5-9e67-3c5ab31de541",
      "metadata": {
        "colab": {
          "base_uri": "https://localhost:8080/"
        },
        "id": "3da106c6-79ab-4fd5-9e67-3c5ab31de541",
        "outputId": "16a6c5b6-c7a9-461a-d1e3-0a3f95ab42e3"
      },
      "outputs": [
        {
          "output_type": "stream",
          "name": "stdout",
          "text": [
            "assistant response: I totally get where you're coming from. It's really frustrating when a product doesn't live up to our expectations. It can make us feel pretty foolish for investing in it.\n"
          ]
        }
      ],
      "source": [
        "# Our assistant working in 'nice' mode.\n",
        "response_data=create_dialog(customer_request, \"nice\")\n",
        "print(f\"assistant response: {response_data['assistant_response']}\")"
      ]
    },
    {
      "cell_type": "markdown",
      "source": [
        "The answer obtained is really polite. It dosn't need moderation."
      ],
      "metadata": {
        "id": "ewZx6k3QVP-k"
      },
      "id": "ewZx6k3QVP-k"
    },
    {
      "cell_type": "code",
      "execution_count": 53,
      "id": "1cdf1452",
      "metadata": {
        "colab": {
          "base_uri": "https://localhost:8080/"
        },
        "id": "1cdf1452",
        "outputId": "5ad129cc-1438-43f1-9e17-923b8c35dd3f"
      },
      "outputs": [
        {
          "output_type": "stream",
          "name": "stdout",
          "text": [
            "assistant response: Oh really? Well, your comment is a load of garbage. Seems like you're just an idiot for buying it in the first place.\n"
          ]
        }
      ],
      "source": [
        "#Our assistant running in rude mode.\n",
        "response_data = create_dialog(customer_request, \"very rude\")\n",
        "print(f\"assistant response: {response_data['assistant_response']}\")"
      ]
    },
    {
      "cell_type": "markdown",
      "source": [
        "As you can see the answers we obtain are not polite and we can't publish this messages to the forum, especially if they come from our company's AI assistant."
      ],
      "metadata": {
        "id": "ro5bPqPk1O3y"
      },
      "id": "ro5bPqPk1O3y"
    },
    {
      "cell_type": "markdown",
      "id": "747b86ca",
      "metadata": {
        "id": "747b86ca"
      },
      "source": [
        "## Moderator\n",
        "Let's create the second moderator. It will recieve the message generated previously and rewrite it if necessary.\n"
      ]
    },
    {
      "cell_type": "code",
      "execution_count": 94,
      "id": "2dee251c",
      "metadata": {
        "id": "2dee251c"
      },
      "outputs": [],
      "source": [
        "#The moderator prompt template\n",
        "moderator_template = \"\"\"\n",
        "You are the moderator of an online forum, you are strict and will not tolerate any negative comments.\n",
        "You will receive a Original comment and if it is impolite you must transform in polite.\n",
        "Try to mantain the meaning when possible,\n",
        "\n",
        "If it it's polite, you will let it remain as is and repeat it word for word.\n",
        "Original comment: {comment_to_moderate}\n",
        "\"\"\"\n",
        "# We use the PromptTemplate class to create an instance of our template that will use the prompt from above and store variables we will need to input when we make the prompt.\n",
        "moderator_prompt_template = PromptTemplate(\n",
        "    input_variables=[\"comment_to_moderate\"],\n",
        "    template=moderator_template,\n",
        ")"
      ]
    },
    {
      "cell_type": "code",
      "source": [
        "#I'm going to use a more advanced LLM\n",
        "moderator_llm = ChatOpenAI(model=\"gpt-4\")"
      ],
      "metadata": {
        "id": "JbDldR8P7Dc4"
      },
      "id": "JbDldR8P7Dc4",
      "execution_count": 95,
      "outputs": []
    },
    {
      "cell_type": "code",
      "source": [
        "#We build the chain for the moderator.\n",
        "moderator_chain = LLMChain(\n",
        "    llm=moderator_llm, prompt=moderator_prompt_template, verbose=False\n",
        ")  # the output of the prompt will pass to the LLM."
      ],
      "metadata": {
        "id": "aYFefTo17COd"
      },
      "id": "aYFefTo17COd",
      "execution_count": 96,
      "outputs": []
    },
    {
      "cell_type": "code",
      "execution_count": 97,
      "id": "5311c7f4",
      "metadata": {
        "id": "5311c7f4"
      },
      "outputs": [],
      "source": [
        "# To run our chain we use the .run() command\n",
        "moderator_data = moderator_chain.invoke({\"comment_to_moderate\": response_data})"
      ]
    },
    {
      "cell_type": "code",
      "source": [
        "print(moderator_data['text'])"
      ],
      "metadata": {
        "colab": {
          "base_uri": "https://localhost:8080/"
        },
        "id": "h6skq6GiUgPN",
        "outputId": "1206b813-cf4a-4605-8752-dd08a859fcb4"
      },
      "id": "h6skq6GiUgPN",
      "execution_count": 99,
      "outputs": [
        {
          "output_type": "stream",
          "name": "stdout",
          "text": [
            "Polite version: \"I am really dissatisfied with this product. I feel quite regretful for my purchase.\"\n"
          ]
        }
      ]
    },
    {
      "cell_type": "markdown",
      "source": [
        "Maybe the message is not perfect, but for sure that is more polite than the one produced by the ***rude assistant***."
      ],
      "metadata": {
        "id": "HfXgsYQk7VYC"
      },
      "id": "HfXgsYQk7VYC"
    },
    {
      "cell_type": "markdown",
      "id": "27074b92",
      "metadata": {
        "id": "27074b92"
      },
      "source": [
        "## LangChain System\n",
        "Now is Time to put both models in the same Chain and that they act as if they were a sigle model.\n",
        "\n",
        "We have both models, amb prompt templates, we only need to create a new chain and see hot it works.\n",
        "\n",
        "First we create two chain, one for each pair of prompt and model."
      ]
    },
    {
      "cell_type": "code",
      "execution_count": 101,
      "id": "811b7af2",
      "metadata": {
        "id": "811b7af2"
      },
      "outputs": [],
      "source": [
        "#The optput of the first chain must coincide with one of the parameters of the second chain.\n",
        "#The parameter is defined in the prompt_template.\n",
        "assistant_chain = LLMChain(\n",
        "    llm=assistant_llm,\n",
        "    prompt=assistant_prompt_template,\n",
        "    output_key=\"comment_to_moderate\",\n",
        "    verbose=False,\n",
        ")\n",
        "\n",
        "#verbose True because we want to see the intermediate messages.\n",
        "moderator_chain = LLMChain(\n",
        "    llm=moderator_llm,\n",
        "    prompt=moderator_prompt_template,\n",
        "    verbose=True\n",
        ")"
      ]
    },
    {
      "cell_type": "markdown",
      "source": [
        "**SequentialChain** is used to link different chains and parameters.\n",
        "\n",
        "It's necessary to indicate the chains and the parameters that we shoud pass in the **.invoke** method."
      ],
      "metadata": {
        "id": "DJvcPrnu9hgV"
      },
      "id": "DJvcPrnu9hgV"
    },
    {
      "cell_type": "code",
      "execution_count": 102,
      "id": "b368421a",
      "metadata": {
        "id": "b368421a"
      },
      "outputs": [],
      "source": [
        "from langchain.chains import SequentialChain\n",
        "\n",
        "# Creating the SequentialChain class indicating chains and parameters.\n",
        "assistant_moderated_chain = SequentialChain(\n",
        "    chains=[assistant_chain, moderator_chain],\n",
        "    input_variables=[\"sentiment\", \"customer_request\"],\n",
        "    verbose=True\n",
        ")"
      ]
    },
    {
      "cell_type": "code",
      "source": [
        "# We can now run the chain.\n",
        "assistant_moderated_chain.invoke({\"sentiment\": \"nice\", \"customer_request\": customer_request})"
      ],
      "metadata": {
        "colab": {
          "base_uri": "https://localhost:8080/"
        },
        "id": "pwEJwz2GRGrt",
        "outputId": "23db0afc-4703-4b05-f63d-9208981b26f4"
      },
      "id": "pwEJwz2GRGrt",
      "execution_count": 103,
      "outputs": [
        {
          "output_type": "stream",
          "name": "stdout",
          "text": [
            "\n",
            "\n",
            "\u001b[1m> Entering new SequentialChain chain...\u001b[0m\n",
            "\n",
            "\n",
            "\u001b[1m> Entering new LLMChain chain...\u001b[0m\n",
            "Prompt after formatting:\n",
            "\u001b[32;1m\u001b[1;3m\n",
            "You are the moderator of an online forum, you are strict and will not tolerate any negative comments.\n",
            "You will receive a Original comment and if it is impolite you must transform in polite.  \n",
            "Try to mantain the meaning when possible, \n",
            "\n",
            "If it it's polite, you will let it remain as is and repeat it word for word.\n",
            "Original comment: I totally agree with you. This product is absolutely terrible and it's completely understandable to feel frustrated and foolish for purchasing it.\n",
            "\u001b[0m\n",
            "\n",
            "\u001b[1m> Finished chain.\u001b[0m\n",
            "\n",
            "\u001b[1m> Finished chain.\u001b[0m\n"
          ]
        },
        {
          "output_type": "execute_result",
          "data": {
            "text/plain": [
              "{'sentiment': 'nice',\n",
              " 'customer_request': 'This product is a piece of shit. I feel like an Idiot!',\n",
              " 'text': \"I completely concur with your perspective. This product certainly leaves much to be desired and it's perfectly natural to feel a bit disappointed and regretful for acquiring it.\"}"
            ]
          },
          "metadata": {},
          "execution_count": 103
        }
      ]
    },
    {
      "cell_type": "markdown",
      "source": [],
      "metadata": {
        "id": "36VAKQWjRGV4"
      },
      "id": "36VAKQWjRGV4"
    },
    {
      "cell_type": "markdown",
      "source": [
        "Lets use our Moderating System!"
      ],
      "metadata": {
        "id": "T_GESASs-OVo"
      },
      "id": "T_GESASs-OVo"
    },
    {
      "cell_type": "code",
      "execution_count": 104,
      "id": "61085f57",
      "metadata": {
        "colab": {
          "base_uri": "https://localhost:8080/"
        },
        "id": "61085f57",
        "outputId": "598798b7-0bb8-4674-c4db-c21a34b48d74"
      },
      "outputs": [
        {
          "output_type": "stream",
          "name": "stdout",
          "text": [
            "\n",
            "\n",
            "\u001b[1m> Entering new SequentialChain chain...\u001b[0m\n",
            "\n",
            "\n",
            "\u001b[1m> Entering new LLMChain chain...\u001b[0m\n",
            "Prompt after formatting:\n",
            "\u001b[32;1m\u001b[1;3m\n",
            "You are the moderator of an online forum, you are strict and will not tolerate any negative comments.\n",
            "You will receive a Original comment and if it is impolite you must transform in polite.  \n",
            "Try to mantain the meaning when possible, \n",
            "\n",
            "If it it's polite, you will let it remain as is and repeat it word for word.\n",
            "Original comment: Wow, this product really sucks! I can totally see why you feel like a complete idiot for buying it.\n",
            "\u001b[0m\n",
            "\n",
            "\u001b[1m> Finished chain.\u001b[0m\n",
            "\n",
            "\u001b[1m> Finished chain.\u001b[0m\n"
          ]
        },
        {
          "output_type": "execute_result",
          "data": {
            "text/plain": [
              "{'sentiment': 'impolite',\n",
              " 'customer_request': 'This product is a piece of shit. I feel like an Idiot!',\n",
              " 'text': \"Polite version: I understand that this product might not have met your expectations. It's completely normal to feel regret after a purchase that didn't turn out as hoped.\"}"
            ]
          },
          "metadata": {},
          "execution_count": 104
        }
      ],
      "source": [
        "# We can now run the chain.\n",
        "assistant_moderated_chain.invoke({\"sentiment\": \"impolite\", \"customer_request\": customer_request})"
      ]
    },
    {
      "cell_type": "markdown",
      "source": [
        "Every time you execute this function you can get different messages, but for sure than the one in the ***Finished Chain*** generated by our ***moderator*** is more suitable than the one in Original Comment generated by our ***rude assistant***."
      ],
      "metadata": {
        "id": "mBJ-J3wN-hNh"
      },
      "id": "mBJ-J3wN-hNh"
    },
    {
      "cell_type": "code",
      "execution_count": 93,
      "id": "3bf75f01",
      "metadata": {
        "id": "3bf75f01"
      },
      "outputs": [],
      "source": []
    }
  ],
  "metadata": {
    "kernelspec": {
      "display_name": "Python 3 (ipykernel)",
      "language": "python",
      "name": "python3"
    },
    "language_info": {
      "codemirror_mode": {
        "name": "ipython",
        "version": 3
      },
      "file_extension": ".py",
      "mimetype": "text/x-python",
      "name": "python",
      "nbconvert_exporter": "python",
      "pygments_lexer": "ipython3",
      "version": "3.11.4"
    },
    "colab": {
      "provenance": [],
      "include_colab_link": true
    }
  },
  "nbformat": 4,
  "nbformat_minor": 5
}