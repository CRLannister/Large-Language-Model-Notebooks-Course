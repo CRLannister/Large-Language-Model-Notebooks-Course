{
  "cells": [
    {
      "cell_type": "markdown",
      "metadata": {
        "id": "view-in-github",
        "colab_type": "text"
      },
      "source": [
        "<a href=\"https://colab.research.google.com/github/peremartra/Large-Language-Model-Notebooks-Course/blob/main/3-LangChain/langchain_retrieval_agent.ipynb\" target=\"_parent\"><img src=\"https://colab.research.google.com/assets/colab-badge.svg\" alt=\"Open In Colab\"/></a>"
      ]
    },
    {
      "cell_type": "markdown",
      "source": [
        "\n",
        "<h1><a href=\"https://github.com/peremartra/Large-Language-Model-Notebooks-Course\">LLM Hands On Course</a></h1>\n",
        "    <h3>Understand And Apply Large Language Models</h3>\n",
        "    <p>by <b>Pere Martra</b></p>\n",
        "    <h2>Create a Medical Assistant RAG System chat with LangChain & ChromaDB</h2>\n",
        "</div>\n",
        "\n",
        "\n",
        "<div>\n",
        "    &nbsp;\n",
        "    <a target=\"_blank\" href=\"https://www.linkedin.com/in/pere-martra/\"><img src=\"https://img.shields.io/badge/style--5eba00.svg?label=LinkedIn&logo=linkedin&style=social\"></a>\n",
        "    \n",
        "</div>\n"
      ],
      "metadata": {
        "id": "f3cvnSVemTSU"
      }
    },
    {
      "cell_type": "markdown",
      "source": [
        "#Installing libraries & Loading Dataset"
      ],
      "metadata": {
        "id": "KNW-LniD2I2o"
      }
    },
    {
      "cell_type": "code",
      "execution_count": 1,
      "metadata": {
        "colab": {
          "base_uri": "https://localhost:8080/"
        },
        "id": "pva9ehKXUpU2",
        "outputId": "3d886e10-b93f-4016-a3ab-e08ad624a1d3"
      },
      "outputs": [
        {
          "output_type": "stream",
          "name": "stdout",
          "text": [
            "\u001b[31mERROR: pip's dependency resolver does not currently take into account all the packages that are installed. This behaviour is the source of the following dependency conflicts.\n",
            "llmx 0.0.15a0 requires cohere, which is not installed.\u001b[0m\u001b[31m\n",
            "\u001b[0m\u001b[31mERROR: pip's dependency resolver does not currently take into account all the packages that are installed. This behaviour is the source of the following dependency conflicts.\n",
            "llmx 0.0.15a0 requires cohere, which is not installed.\n",
            "langchain-openai 0.0.2 requires tiktoken<0.6.0,>=0.5.2, but you have tiktoken 0.4.0 which is incompatible.\u001b[0m\u001b[31m\n",
            "\u001b[0m"
          ]
        }
      ],
      "source": [
        "!pip install -q openai\n",
        "!pip install -q langchain\n",
        "!pip install -q langchain-openai\n",
        "!pip install -q tiktoken==0.4.0\n",
        "!pip install -q datasets==2.12.0\n",
        "!pip install -q chromadb==0.4.22"
      ]
    },
    {
      "cell_type": "markdown",
      "source": [
        "We will download the dataset from the Hugging Face datasets library. It's a dataset with information about diseases."
      ],
      "metadata": {
        "id": "KEwdHiGFkK_S"
      }
    },
    {
      "cell_type": "code",
      "execution_count": 2,
      "metadata": {
        "colab": {
          "base_uri": "https://localhost:8080/"
        },
        "id": "laSDMjqQXuj-",
        "outputId": "37994e36-1c75-4158-941a-9d9aef2cc09b"
      },
      "outputs": [
        {
          "output_type": "stream",
          "name": "stderr",
          "text": [
            "/usr/local/lib/python3.10/dist-packages/huggingface_hub/utils/_token.py:88: UserWarning: \n",
            "The secret `HF_TOKEN` does not exist in your Colab secrets.\n",
            "To authenticate with the Hugging Face Hub, create a token in your settings tab (https://huggingface.co/settings/tokens), set it as secret in your Google Colab and restart your session.\n",
            "You will be able to reuse this secret in all of your notebooks.\n",
            "Please note that authentication is recommended but still optional to access public models or datasets.\n",
            "  warnings.warn(\n",
            "WARNING:datasets.builder:Found cached dataset csv (/root/.cache/huggingface/datasets/keivalya___csv/keivalya--MedQuad-MedicalQnADataset-9eb2b9d746e16e9a/0.0.0/6954658bab30a358235fa864b05cf819af0e179325c740e4bc853bcc7ec513e1)\n"
          ]
        }
      ],
      "source": [
        "from datasets import load_dataset\n",
        "\n",
        "data = load_dataset(\"keivalya/MedQuad-MedicalQnADataset\", split='train')\n"
      ]
    },
    {
      "cell_type": "code",
      "execution_count": 3,
      "metadata": {
        "colab": {
          "base_uri": "https://localhost:8080/",
          "height": 206
        },
        "id": "JnWZTcJiXzor",
        "outputId": "b2ab7e14-e780-40d3-a799-1c1817d98a06"
      },
      "outputs": [
        {
          "output_type": "execute_result",
          "data": {
            "text/plain": [
              "             qtype                                           Question  \\\n",
              "0   susceptibility  Who is at risk for Lymphocytic Choriomeningiti...   \n",
              "1         symptoms  What are the symptoms of Lymphocytic Choriomen...   \n",
              "2   susceptibility  Who is at risk for Lymphocytic Choriomeningiti...   \n",
              "3  exams and tests  How to diagnose Lymphocytic Choriomeningitis (...   \n",
              "4        treatment  What are the treatments for Lymphocytic Chorio...   \n",
              "\n",
              "                                              Answer  \n",
              "0  LCMV infections can occur after exposure to fr...  \n",
              "1  LCMV is most commonly recognized as causing ne...  \n",
              "2  Individuals of all ages who come into contact ...  \n",
              "3  During the first phase of the disease, the mos...  \n",
              "4  Aseptic meningitis, encephalitis, or meningoen...  "
            ],
            "text/html": [
              "\n",
              "  <div id=\"df-60ae32c5-4444-44e3-8327-2b7d415230ca\" class=\"colab-df-container\">\n",
              "    <div>\n",
              "<style scoped>\n",
              "    .dataframe tbody tr th:only-of-type {\n",
              "        vertical-align: middle;\n",
              "    }\n",
              "\n",
              "    .dataframe tbody tr th {\n",
              "        vertical-align: top;\n",
              "    }\n",
              "\n",
              "    .dataframe thead th {\n",
              "        text-align: right;\n",
              "    }\n",
              "</style>\n",
              "<table border=\"1\" class=\"dataframe\">\n",
              "  <thead>\n",
              "    <tr style=\"text-align: right;\">\n",
              "      <th></th>\n",
              "      <th>qtype</th>\n",
              "      <th>Question</th>\n",
              "      <th>Answer</th>\n",
              "    </tr>\n",
              "  </thead>\n",
              "  <tbody>\n",
              "    <tr>\n",
              "      <th>0</th>\n",
              "      <td>susceptibility</td>\n",
              "      <td>Who is at risk for Lymphocytic Choriomeningiti...</td>\n",
              "      <td>LCMV infections can occur after exposure to fr...</td>\n",
              "    </tr>\n",
              "    <tr>\n",
              "      <th>1</th>\n",
              "      <td>symptoms</td>\n",
              "      <td>What are the symptoms of Lymphocytic Choriomen...</td>\n",
              "      <td>LCMV is most commonly recognized as causing ne...</td>\n",
              "    </tr>\n",
              "    <tr>\n",
              "      <th>2</th>\n",
              "      <td>susceptibility</td>\n",
              "      <td>Who is at risk for Lymphocytic Choriomeningiti...</td>\n",
              "      <td>Individuals of all ages who come into contact ...</td>\n",
              "    </tr>\n",
              "    <tr>\n",
              "      <th>3</th>\n",
              "      <td>exams and tests</td>\n",
              "      <td>How to diagnose Lymphocytic Choriomeningitis (...</td>\n",
              "      <td>During the first phase of the disease, the mos...</td>\n",
              "    </tr>\n",
              "    <tr>\n",
              "      <th>4</th>\n",
              "      <td>treatment</td>\n",
              "      <td>What are the treatments for Lymphocytic Chorio...</td>\n",
              "      <td>Aseptic meningitis, encephalitis, or meningoen...</td>\n",
              "    </tr>\n",
              "  </tbody>\n",
              "</table>\n",
              "</div>\n",
              "    <div class=\"colab-df-buttons\">\n",
              "\n",
              "  <div class=\"colab-df-container\">\n",
              "    <button class=\"colab-df-convert\" onclick=\"convertToInteractive('df-60ae32c5-4444-44e3-8327-2b7d415230ca')\"\n",
              "            title=\"Convert this dataframe to an interactive table.\"\n",
              "            style=\"display:none;\">\n",
              "\n",
              "  <svg xmlns=\"http://www.w3.org/2000/svg\" height=\"24px\" viewBox=\"0 -960 960 960\">\n",
              "    <path d=\"M120-120v-720h720v720H120Zm60-500h600v-160H180v160Zm220 220h160v-160H400v160Zm0 220h160v-160H400v160ZM180-400h160v-160H180v160Zm440 0h160v-160H620v160ZM180-180h160v-160H180v160Zm440 0h160v-160H620v160Z\"/>\n",
              "  </svg>\n",
              "    </button>\n",
              "\n",
              "  <style>\n",
              "    .colab-df-container {\n",
              "      display:flex;\n",
              "      gap: 12px;\n",
              "    }\n",
              "\n",
              "    .colab-df-convert {\n",
              "      background-color: #E8F0FE;\n",
              "      border: none;\n",
              "      border-radius: 50%;\n",
              "      cursor: pointer;\n",
              "      display: none;\n",
              "      fill: #1967D2;\n",
              "      height: 32px;\n",
              "      padding: 0 0 0 0;\n",
              "      width: 32px;\n",
              "    }\n",
              "\n",
              "    .colab-df-convert:hover {\n",
              "      background-color: #E2EBFA;\n",
              "      box-shadow: 0px 1px 2px rgba(60, 64, 67, 0.3), 0px 1px 3px 1px rgba(60, 64, 67, 0.15);\n",
              "      fill: #174EA6;\n",
              "    }\n",
              "\n",
              "    .colab-df-buttons div {\n",
              "      margin-bottom: 4px;\n",
              "    }\n",
              "\n",
              "    [theme=dark] .colab-df-convert {\n",
              "      background-color: #3B4455;\n",
              "      fill: #D2E3FC;\n",
              "    }\n",
              "\n",
              "    [theme=dark] .colab-df-convert:hover {\n",
              "      background-color: #434B5C;\n",
              "      box-shadow: 0px 1px 3px 1px rgba(0, 0, 0, 0.15);\n",
              "      filter: drop-shadow(0px 1px 2px rgba(0, 0, 0, 0.3));\n",
              "      fill: #FFFFFF;\n",
              "    }\n",
              "  </style>\n",
              "\n",
              "    <script>\n",
              "      const buttonEl =\n",
              "        document.querySelector('#df-60ae32c5-4444-44e3-8327-2b7d415230ca button.colab-df-convert');\n",
              "      buttonEl.style.display =\n",
              "        google.colab.kernel.accessAllowed ? 'block' : 'none';\n",
              "\n",
              "      async function convertToInteractive(key) {\n",
              "        const element = document.querySelector('#df-60ae32c5-4444-44e3-8327-2b7d415230ca');\n",
              "        const dataTable =\n",
              "          await google.colab.kernel.invokeFunction('convertToInteractive',\n",
              "                                                    [key], {});\n",
              "        if (!dataTable) return;\n",
              "\n",
              "        const docLinkHtml = 'Like what you see? Visit the ' +\n",
              "          '<a target=\"_blank\" href=https://colab.research.google.com/notebooks/data_table.ipynb>data table notebook</a>'\n",
              "          + ' to learn more about interactive tables.';\n",
              "        element.innerHTML = '';\n",
              "        dataTable['output_type'] = 'display_data';\n",
              "        await google.colab.output.renderOutput(dataTable, element);\n",
              "        const docLink = document.createElement('div');\n",
              "        docLink.innerHTML = docLinkHtml;\n",
              "        element.appendChild(docLink);\n",
              "      }\n",
              "    </script>\n",
              "  </div>\n",
              "\n",
              "\n",
              "<div id=\"df-806dc6fa-866e-4c11-b126-2c8e146def5f\">\n",
              "  <button class=\"colab-df-quickchart\" onclick=\"quickchart('df-806dc6fa-866e-4c11-b126-2c8e146def5f')\"\n",
              "            title=\"Suggest charts\"\n",
              "            style=\"display:none;\">\n",
              "\n",
              "<svg xmlns=\"http://www.w3.org/2000/svg\" height=\"24px\"viewBox=\"0 0 24 24\"\n",
              "     width=\"24px\">\n",
              "    <g>\n",
              "        <path d=\"M19 3H5c-1.1 0-2 .9-2 2v14c0 1.1.9 2 2 2h14c1.1 0 2-.9 2-2V5c0-1.1-.9-2-2-2zM9 17H7v-7h2v7zm4 0h-2V7h2v10zm4 0h-2v-4h2v4z\"/>\n",
              "    </g>\n",
              "</svg>\n",
              "  </button>\n",
              "\n",
              "<style>\n",
              "  .colab-df-quickchart {\n",
              "      --bg-color: #E8F0FE;\n",
              "      --fill-color: #1967D2;\n",
              "      --hover-bg-color: #E2EBFA;\n",
              "      --hover-fill-color: #174EA6;\n",
              "      --disabled-fill-color: #AAA;\n",
              "      --disabled-bg-color: #DDD;\n",
              "  }\n",
              "\n",
              "  [theme=dark] .colab-df-quickchart {\n",
              "      --bg-color: #3B4455;\n",
              "      --fill-color: #D2E3FC;\n",
              "      --hover-bg-color: #434B5C;\n",
              "      --hover-fill-color: #FFFFFF;\n",
              "      --disabled-bg-color: #3B4455;\n",
              "      --disabled-fill-color: #666;\n",
              "  }\n",
              "\n",
              "  .colab-df-quickchart {\n",
              "    background-color: var(--bg-color);\n",
              "    border: none;\n",
              "    border-radius: 50%;\n",
              "    cursor: pointer;\n",
              "    display: none;\n",
              "    fill: var(--fill-color);\n",
              "    height: 32px;\n",
              "    padding: 0;\n",
              "    width: 32px;\n",
              "  }\n",
              "\n",
              "  .colab-df-quickchart:hover {\n",
              "    background-color: var(--hover-bg-color);\n",
              "    box-shadow: 0 1px 2px rgba(60, 64, 67, 0.3), 0 1px 3px 1px rgba(60, 64, 67, 0.15);\n",
              "    fill: var(--button-hover-fill-color);\n",
              "  }\n",
              "\n",
              "  .colab-df-quickchart-complete:disabled,\n",
              "  .colab-df-quickchart-complete:disabled:hover {\n",
              "    background-color: var(--disabled-bg-color);\n",
              "    fill: var(--disabled-fill-color);\n",
              "    box-shadow: none;\n",
              "  }\n",
              "\n",
              "  .colab-df-spinner {\n",
              "    border: 2px solid var(--fill-color);\n",
              "    border-color: transparent;\n",
              "    border-bottom-color: var(--fill-color);\n",
              "    animation:\n",
              "      spin 1s steps(1) infinite;\n",
              "  }\n",
              "\n",
              "  @keyframes spin {\n",
              "    0% {\n",
              "      border-color: transparent;\n",
              "      border-bottom-color: var(--fill-color);\n",
              "      border-left-color: var(--fill-color);\n",
              "    }\n",
              "    20% {\n",
              "      border-color: transparent;\n",
              "      border-left-color: var(--fill-color);\n",
              "      border-top-color: var(--fill-color);\n",
              "    }\n",
              "    30% {\n",
              "      border-color: transparent;\n",
              "      border-left-color: var(--fill-color);\n",
              "      border-top-color: var(--fill-color);\n",
              "      border-right-color: var(--fill-color);\n",
              "    }\n",
              "    40% {\n",
              "      border-color: transparent;\n",
              "      border-right-color: var(--fill-color);\n",
              "      border-top-color: var(--fill-color);\n",
              "    }\n",
              "    60% {\n",
              "      border-color: transparent;\n",
              "      border-right-color: var(--fill-color);\n",
              "    }\n",
              "    80% {\n",
              "      border-color: transparent;\n",
              "      border-right-color: var(--fill-color);\n",
              "      border-bottom-color: var(--fill-color);\n",
              "    }\n",
              "    90% {\n",
              "      border-color: transparent;\n",
              "      border-bottom-color: var(--fill-color);\n",
              "    }\n",
              "  }\n",
              "</style>\n",
              "\n",
              "  <script>\n",
              "    async function quickchart(key) {\n",
              "      const quickchartButtonEl =\n",
              "        document.querySelector('#' + key + ' button');\n",
              "      quickchartButtonEl.disabled = true;  // To prevent multiple clicks.\n",
              "      quickchartButtonEl.classList.add('colab-df-spinner');\n",
              "      try {\n",
              "        const charts = await google.colab.kernel.invokeFunction(\n",
              "            'suggestCharts', [key], {});\n",
              "      } catch (error) {\n",
              "        console.error('Error during call to suggestCharts:', error);\n",
              "      }\n",
              "      quickchartButtonEl.classList.remove('colab-df-spinner');\n",
              "      quickchartButtonEl.classList.add('colab-df-quickchart-complete');\n",
              "    }\n",
              "    (() => {\n",
              "      let quickchartButtonEl =\n",
              "        document.querySelector('#df-806dc6fa-866e-4c11-b126-2c8e146def5f button');\n",
              "      quickchartButtonEl.style.display =\n",
              "        google.colab.kernel.accessAllowed ? 'block' : 'none';\n",
              "    })();\n",
              "  </script>\n",
              "</div>\n",
              "    </div>\n",
              "  </div>\n"
            ]
          },
          "metadata": {},
          "execution_count": 3
        }
      ],
      "source": [
        "data = data.to_pandas()\n",
        "data.head()"
      ]
    },
    {
      "cell_type": "markdown",
      "source": [
        "Load the langchain libraries to load the document."
      ],
      "metadata": {
        "id": "2sLkrHF6lWhM"
      }
    },
    {
      "cell_type": "code",
      "source": [
        "from langchain.document_loaders import DataFrameLoader\n",
        "from langchain.vectorstores import Chroma"
      ],
      "metadata": {
        "id": "cCBAlIb596wZ"
      },
      "execution_count": 4,
      "outputs": []
    },
    {
      "cell_type": "markdown",
      "source": [
        "The Document is in the Answer column, and the others columsn are Metadata."
      ],
      "metadata": {
        "id": "nGCkVX6xldOR"
      }
    },
    {
      "cell_type": "code",
      "source": [
        "df_loader = DataFrameLoader(data, page_content_column=\"Answer\")\n"
      ],
      "metadata": {
        "id": "JZX8SaTe99Uf"
      },
      "execution_count": 5,
      "outputs": []
    },
    {
      "cell_type": "code",
      "source": [
        "df_document = df_loader.load()\n",
        "display(df_document[:2])"
      ],
      "metadata": {
        "colab": {
          "base_uri": "https://localhost:8080/",
          "height": 555
        },
        "id": "HDWnTqRY-IDr",
        "outputId": "1f45f6a8-9021-4e67-88c6-78945b5cc1d9"
      },
      "execution_count": 6,
      "outputs": [
        {
          "output_type": "display_data",
          "data": {
            "text/plain": [
              "[Document(page_content='LCMV infections can occur after exposure to fresh urine, droppings, saliva, or nesting materials from infected rodents.  Transmission may also occur when these materials are directly introduced into broken skin, the nose, the eyes, or the mouth, or presumably, via the bite of an infected rodent. Person-to-person transmission has not been reported, with the exception of vertical transmission from infected mother to fetus, and rarely, through organ transplantation.', metadata={'qtype': 'susceptibility', 'Question': 'Who is at risk for Lymphocytic Choriomeningitis (LCM)? ?'}),\n",
              " Document(page_content='LCMV is most commonly recognized as causing neurological disease, as its name implies, though infection without symptoms or mild febrile illnesses are more common clinical manifestations. \\n                \\nFor infected persons who do become ill, onset of symptoms usually occurs 8-13 days after exposure to the virus as part of a biphasic febrile illness. This initial phase, which may last as long as a week, typically begins with any or all of the following symptoms: fever, malaise, lack of appetite, muscle aches, headache, nausea, and vomiting. Other symptoms appearing less frequently include sore throat, cough, joint pain, chest pain, testicular pain, and parotid (salivary gland) pain. \\n                \\nFollowing a few days of recovery, a second phase of illness may occur. Symptoms may consist of meningitis (fever, headache, stiff neck, etc.), encephalitis (drowsiness, confusion, sensory disturbances, and/or motor abnormalities, such as paralysis), or meningoencephalitis (inflammation of both the brain and meninges). LCMV has also been known to cause acute hydrocephalus (increased fluid on the brain), which often requires surgical shunting to relieve increased intracranial pressure. In rare instances, infection results in myelitis (inflammation of the spinal cord) and presents with symptoms such as muscle weakness, paralysis, or changes in body sensation. An association between LCMV infection and myocarditis (inflammation of the heart muscles) has been suggested. \\n                \\nPrevious observations show that most patients who develop aseptic meningitis or encephalitis due to LCMV survive. No chronic infection has been described in humans, and after the acute phase of illness, the virus is cleared from the body. However, as in all infections of the central nervous system, particularly encephalitis, temporary or permanent neurological damage is possible. Nerve deafness and arthritis have been reported. \\n                \\nWomen who become infected with LCMV during pregnancy may pass the infection on to the fetus. Infections occurring during the first trimester may result in fetal death and pregnancy termination, while in the second and third trimesters, birth defects can develop. Infants infected In utero can have many serious and permanent birth defects, including vision problems, mental retardation, and hydrocephaly (water on the brain). Pregnant women may recall a flu-like illness during pregnancy, or may not recall any illness. \\n                \\nLCM is usually not fatal. In general, mortality is less than 1%.', metadata={'qtype': 'symptoms', 'Question': 'What are the symptoms of Lymphocytic Choriomeningitis (LCM) ?'})]"
            ]
          },
          "metadata": {}
        }
      ]
    },
    {
      "cell_type": "markdown",
      "source": [
        "We can chunk the documents. The size to which we want to split the document is a design decision. The larger it is, the larger the prompt will be, and the slower the Model's response process.\n",
        "\n",
        "We also need to consider the maximum prompt size and ensure that the document does not exceed it."
      ],
      "metadata": {
        "id": "zPuTbSsXl3uF"
      }
    },
    {
      "cell_type": "code",
      "source": [
        "from langchain.text_splitter import CharacterTextSplitter"
      ],
      "metadata": {
        "id": "8wogWV1_-lxh"
      },
      "execution_count": 7,
      "outputs": []
    },
    {
      "cell_type": "code",
      "source": [
        "text_splitter = CharacterTextSplitter(chunk_size=1250, chunk_overlap=100)\n",
        "texts = text_splitter.split_documents(df_document)\n"
      ],
      "metadata": {
        "colab": {
          "base_uri": "https://localhost:8080/"
        },
        "id": "kg7SRkqO-f9x",
        "outputId": "7aac8b73-2f8e-42d6-85da-ff081f5f0244"
      },
      "execution_count": 8,
      "outputs": [
        {
          "output_type": "stream",
          "name": "stderr",
          "text": [
            "WARNING:langchain.text_splitter:Created a chunk of size 1655, which is longer than the specified 1250\n",
            "WARNING:langchain.text_splitter:Created a chunk of size 1658, which is longer than the specified 1250\n",
            "WARNING:langchain.text_splitter:Created a chunk of size 2145, which is longer than the specified 1250\n",
            "WARNING:langchain.text_splitter:Created a chunk of size 6418, which is longer than the specified 1250\n",
            "WARNING:langchain.text_splitter:Created a chunk of size 2472, which is longer than the specified 1250\n",
            "WARNING:langchain.text_splitter:Created a chunk of size 3697, which is longer than the specified 1250\n",
            "WARNING:langchain.text_splitter:Created a chunk of size 1557, which is longer than the specified 1250\n",
            "WARNING:langchain.text_splitter:Created a chunk of size 4399, which is longer than the specified 1250\n",
            "WARNING:langchain.text_splitter:Created a chunk of size 1620, which is longer than the specified 1250\n",
            "WARNING:langchain.text_splitter:Created a chunk of size 3868, which is longer than the specified 1250\n",
            "WARNING:langchain.text_splitter:Created a chunk of size 1911, which is longer than the specified 1250\n",
            "WARNING:langchain.text_splitter:Created a chunk of size 3831, which is longer than the specified 1250\n",
            "WARNING:langchain.text_splitter:Created a chunk of size 2382, which is longer than the specified 1250\n",
            "WARNING:langchain.text_splitter:Created a chunk of size 4091, which is longer than the specified 1250\n",
            "WARNING:langchain.text_splitter:Created a chunk of size 2923, which is longer than the specified 1250\n",
            "WARNING:langchain.text_splitter:Created a chunk of size 2451, which is longer than the specified 1250\n",
            "WARNING:langchain.text_splitter:Created a chunk of size 2171, which is longer than the specified 1250\n",
            "WARNING:langchain.text_splitter:Created a chunk of size 2354, which is longer than the specified 1250\n",
            "WARNING:langchain.text_splitter:Created a chunk of size 1973, which is longer than the specified 1250\n",
            "WARNING:langchain.text_splitter:Created a chunk of size 1869, which is longer than the specified 1250\n",
            "WARNING:langchain.text_splitter:Created a chunk of size 2511, which is longer than the specified 1250\n",
            "WARNING:langchain.text_splitter:Created a chunk of size 1572, which is longer than the specified 1250\n",
            "WARNING:langchain.text_splitter:Created a chunk of size 1573, which is longer than the specified 1250\n",
            "WARNING:langchain.text_splitter:Created a chunk of size 1620, which is longer than the specified 1250\n",
            "WARNING:langchain.text_splitter:Created a chunk of size 1774, which is longer than the specified 1250\n",
            "WARNING:langchain.text_splitter:Created a chunk of size 8136, which is longer than the specified 1250\n",
            "WARNING:langchain.text_splitter:Created a chunk of size 6474, which is longer than the specified 1250\n",
            "WARNING:langchain.text_splitter:Created a chunk of size 2293, which is longer than the specified 1250\n",
            "WARNING:langchain.text_splitter:Created a chunk of size 4671, which is longer than the specified 1250\n",
            "WARNING:langchain.text_splitter:Created a chunk of size 4671, which is longer than the specified 1250\n",
            "WARNING:langchain.text_splitter:Created a chunk of size 4893, which is longer than the specified 1250\n",
            "WARNING:langchain.text_splitter:Created a chunk of size 1317, which is longer than the specified 1250\n",
            "WARNING:langchain.text_splitter:Created a chunk of size 2772, which is longer than the specified 1250\n",
            "WARNING:langchain.text_splitter:Created a chunk of size 1494, which is longer than the specified 1250\n",
            "WARNING:langchain.text_splitter:Created a chunk of size 1598, which is longer than the specified 1250\n",
            "WARNING:langchain.text_splitter:Created a chunk of size 3736, which is longer than the specified 1250\n",
            "WARNING:langchain.text_splitter:Created a chunk of size 2007, which is longer than the specified 1250\n",
            "WARNING:langchain.text_splitter:Created a chunk of size 1621, which is longer than the specified 1250\n",
            "WARNING:langchain.text_splitter:Created a chunk of size 1606, which is longer than the specified 1250\n",
            "WARNING:langchain.text_splitter:Created a chunk of size 3111, which is longer than the specified 1250\n",
            "WARNING:langchain.text_splitter:Created a chunk of size 1503, which is longer than the specified 1250\n",
            "WARNING:langchain.text_splitter:Created a chunk of size 3156, which is longer than the specified 1250\n",
            "WARNING:langchain.text_splitter:Created a chunk of size 2016, which is longer than the specified 1250\n",
            "WARNING:langchain.text_splitter:Created a chunk of size 4006, which is longer than the specified 1250\n",
            "WARNING:langchain.text_splitter:Created a chunk of size 4189, which is longer than the specified 1250\n",
            "WARNING:langchain.text_splitter:Created a chunk of size 1490, which is longer than the specified 1250\n",
            "WARNING:langchain.text_splitter:Created a chunk of size 1258, which is longer than the specified 1250\n",
            "WARNING:langchain.text_splitter:Created a chunk of size 2993, which is longer than the specified 1250\n",
            "WARNING:langchain.text_splitter:Created a chunk of size 11615, which is longer than the specified 1250\n",
            "WARNING:langchain.text_splitter:Created a chunk of size 1379, which is longer than the specified 1250\n",
            "WARNING:langchain.text_splitter:Created a chunk of size 1758, which is longer than the specified 1250\n",
            "WARNING:langchain.text_splitter:Created a chunk of size 2034, which is longer than the specified 1250\n",
            "WARNING:langchain.text_splitter:Created a chunk of size 2003, which is longer than the specified 1250\n",
            "WARNING:langchain.text_splitter:Created a chunk of size 2607, which is longer than the specified 1250\n",
            "WARNING:langchain.text_splitter:Created a chunk of size 1993, which is longer than the specified 1250\n",
            "WARNING:langchain.text_splitter:Created a chunk of size 2515, which is longer than the specified 1250\n",
            "WARNING:langchain.text_splitter:Created a chunk of size 1712, which is longer than the specified 1250\n",
            "WARNING:langchain.text_splitter:Created a chunk of size 4234, which is longer than the specified 1250\n",
            "WARNING:langchain.text_splitter:Created a chunk of size 1841, which is longer than the specified 1250\n",
            "WARNING:langchain.text_splitter:Created a chunk of size 1489, which is longer than the specified 1250\n",
            "WARNING:langchain.text_splitter:Created a chunk of size 1377, which is longer than the specified 1250\n",
            "WARNING:langchain.text_splitter:Created a chunk of size 4013, which is longer than the specified 1250\n",
            "WARNING:langchain.text_splitter:Created a chunk of size 1420, which is longer than the specified 1250\n",
            "WARNING:langchain.text_splitter:Created a chunk of size 2301, which is longer than the specified 1250\n",
            "WARNING:langchain.text_splitter:Created a chunk of size 4826, which is longer than the specified 1250\n",
            "WARNING:langchain.text_splitter:Created a chunk of size 1424, which is longer than the specified 1250\n",
            "WARNING:langchain.text_splitter:Created a chunk of size 2451, which is longer than the specified 1250\n",
            "WARNING:langchain.text_splitter:Created a chunk of size 1363, which is longer than the specified 1250\n",
            "WARNING:langchain.text_splitter:Created a chunk of size 1282, which is longer than the specified 1250\n",
            "WARNING:langchain.text_splitter:Created a chunk of size 20699, which is longer than the specified 1250\n",
            "WARNING:langchain.text_splitter:Created a chunk of size 2361, which is longer than the specified 1250\n",
            "WARNING:langchain.text_splitter:Created a chunk of size 1509, which is longer than the specified 1250\n",
            "WARNING:langchain.text_splitter:Created a chunk of size 1770, which is longer than the specified 1250\n",
            "WARNING:langchain.text_splitter:Created a chunk of size 3522, which is longer than the specified 1250\n",
            "WARNING:langchain.text_splitter:Created a chunk of size 1450, which is longer than the specified 1250\n",
            "WARNING:langchain.text_splitter:Created a chunk of size 1630, which is longer than the specified 1250\n",
            "WARNING:langchain.text_splitter:Created a chunk of size 3517, which is longer than the specified 1250\n",
            "WARNING:langchain.text_splitter:Created a chunk of size 1322, which is longer than the specified 1250\n",
            "WARNING:langchain.text_splitter:Created a chunk of size 4162, which is longer than the specified 1250\n",
            "WARNING:langchain.text_splitter:Created a chunk of size 4719, which is longer than the specified 1250\n",
            "WARNING:langchain.text_splitter:Created a chunk of size 1737, which is longer than the specified 1250\n"
          ]
        }
      ]
    },
    {
      "cell_type": "markdown",
      "source": [
        "These warnings we see are because it can't perform the partition of the required size. This is because it waits for a page break to divide the text and does so when possible."
      ],
      "metadata": {
        "id": "y0dn9EfrKoeW"
      }
    },
    {
      "cell_type": "code",
      "source": [
        "first_doc = texts[1]\n",
        "print(first_doc.page_content)"
      ],
      "metadata": {
        "colab": {
          "base_uri": "https://localhost:8080/"
        },
        "id": "XaLWV_TzASSB",
        "outputId": "add50107-bff7-4bca-aef8-743a7c7b8333"
      },
      "execution_count": 9,
      "outputs": [
        {
          "output_type": "stream",
          "name": "stdout",
          "text": [
            "LCMV is most commonly recognized as causing neurological disease, as its name implies, though infection without symptoms or mild febrile illnesses are more common clinical manifestations. \n",
            "                \n",
            "For infected persons who do become ill, onset of symptoms usually occurs 8-13 days after exposure to the virus as part of a biphasic febrile illness. This initial phase, which may last as long as a week, typically begins with any or all of the following symptoms: fever, malaise, lack of appetite, muscle aches, headache, nausea, and vomiting. Other symptoms appearing less frequently include sore throat, cough, joint pain, chest pain, testicular pain, and parotid (salivary gland) pain. \n",
            "                \n",
            "Following a few days of recovery, a second phase of illness may occur. Symptoms may consist of meningitis (fever, headache, stiff neck, etc.), encephalitis (drowsiness, confusion, sensory disturbances, and/or motor abnormalities, such as paralysis), or meningoencephalitis (inflammation of both the brain and meninges). LCMV has also been known to cause acute hydrocephalus (increased fluid on the brain), which often requires surgical shunting to relieve increased intracranial pressure. In rare instances, infection results in myelitis (inflammation of the spinal cord) and presents with symptoms such as muscle weakness, paralysis, or changes in body sensation. An association between LCMV infection and myocarditis (inflammation of the heart muscles) has been suggested. \n",
            "                \n",
            "Previous observations show that most patients who develop aseptic meningitis or encephalitis due to LCMV survive. No chronic infection has been described in humans, and after the acute phase of illness, the virus is cleared from the body. However, as in all infections of the central nervous system, particularly encephalitis, temporary or permanent neurological damage is possible. Nerve deafness and arthritis have been reported. \n",
            "                \n",
            "Women who become infected with LCMV during pregnancy may pass the infection on to the fetus. Infections occurring during the first trimester may result in fetal death and pregnancy termination, while in the second and third trimesters, birth defects can develop. Infants infected In utero can have many serious and permanent birth defects, including vision problems, mental retardation, and hydrocephaly (water on the brain). Pregnant women may recall a flu-like illness during pregnancy, or may not recall any illness. \n",
            "                \n",
            "LCM is usually not fatal. In general, mortality is less than 1%.\n"
          ]
        }
      ]
    },
    {
      "cell_type": "markdown",
      "metadata": {
        "id": "B2_Pt7N6Zg2X"
      },
      "source": [
        "### Initialize the Embedding Model and Vector DB"
      ]
    },
    {
      "cell_type": "markdown",
      "source": [
        "We load the text-embedding-ada-002 model from OpenAI."
      ],
      "metadata": {
        "id": "n8ROb8oMnRLD"
      }
    },
    {
      "cell_type": "code",
      "execution_count": 10,
      "metadata": {
        "colab": {
          "base_uri": "https://localhost:8080/"
        },
        "id": "U57x2_87YSpb",
        "outputId": "43fad314-3812-450c-afcd-3320e91dd4df"
      },
      "outputs": [
        {
          "name": "stdout",
          "output_type": "stream",
          "text": [
            "OpenAI API Key: ··········\n"
          ]
        }
      ],
      "source": [
        "from getpass import getpass\n",
        "from langchain_openai import OpenAIEmbeddings\n",
        "\n",
        "OPENAI_API_KEY = getpass(\"OpenAI API Key: \")\n",
        "model_name = 'text-embedding-ada-002'\n",
        "\n",
        "embed = OpenAIEmbeddings(\n",
        "    model=model_name,\n",
        "    openai_api_key=OPENAI_API_KEY\n",
        ")"
      ]
    },
    {
      "cell_type": "markdown",
      "source": [
        "The execution of this cell may take 3 to 5 minutes. If you want it to be faster, you can reduce the number of records in the dataset."
      ],
      "metadata": {
        "id": "cgTCwF7UMyNW"
      }
    },
    {
      "cell_type": "code",
      "source": [
        "directory_cdb = '/content/drive/MyDrive/chromadb'\n",
        "chroma_db = Chroma.from_documents(\n",
        "    df_document, embed, persist_directory=directory_cdb\n",
        ")"
      ],
      "metadata": {
        "id": "SEhQMQ8eCMj8"
      },
      "execution_count": 11,
      "outputs": []
    },
    {
      "cell_type": "markdown",
      "source": [
        "We are going to create three objects.\n",
        "\n",
        "* The language model, which can be any of those from OpenAI, the most common being gpt-3.5.\n",
        "* The memory, responsible for keeping the prompt with all the necessary history.\n",
        "* The retrieval, used to obtain information stored in ChromaDB."
      ],
      "metadata": {
        "id": "KhjV-T8GoarF"
      }
    },
    {
      "cell_type": "code",
      "execution_count": 25,
      "metadata": {
        "id": "zMRs9Klic5-Y"
      },
      "outputs": [],
      "source": [
        "from langchain.chat_models import ChatOpenAI\n",
        "from langchain.chains.conversation.memory import ConversationBufferWindowMemory\n",
        "from langchain.chains import RetrievalQA\n",
        "\n",
        "llm = ChatOpenAI(\n",
        "    openai_api_key=OPENAI_API_KEY,\n",
        "    model_name='gpt-3.5-turbo',\n",
        "    temperature=0.0\n",
        ")\n",
        "\n",
        "conversational_memory = ConversationBufferWindowMemory(\n",
        "    memory_key='chat_history',\n",
        "    k=4, #Number of messages srtored in memory\n",
        "    return_messages=True #Must return the messages in the response.\n",
        ")\n",
        "\n",
        "qa = RetrievalQA.from_chain_type(\n",
        "    llm=llm,\n",
        "    chain_type=\"stuff\",\n",
        "    retriever=chroma_db.as_retriever()\n",
        ")"
      ]
    },
    {
      "cell_type": "markdown",
      "source": [
        "We can try the isolated Retrieval to see if the information it returns is relevant.\n",
        "\n",
        "\n"
      ],
      "metadata": {
        "id": "ergrieE4o8qu"
      }
    },
    {
      "cell_type": "code",
      "execution_count": 13,
      "metadata": {
        "colab": {
          "base_uri": "https://localhost:8080/",
          "height": 107
        },
        "id": "LaYSq0V-dxHw",
        "outputId": "963c6faf-1c9d-490a-ffe8-b79ca59213ed"
      },
      "outputs": [
        {
          "output_type": "stream",
          "name": "stderr",
          "text": [
            "/usr/local/lib/python3.10/dist-packages/langchain_core/_api/deprecation.py:117: LangChainDeprecationWarning: The function `run` was deprecated in LangChain 0.1.0 and will be removed in 0.2.0. Use invoke instead.\n",
            "  warn_deprecated(\n"
          ]
        },
        {
          "output_type": "execute_result",
          "data": {
            "text/plain": [
              "'The main symptom of Lethal Congenital Contracture Syndrome 1 (LCM) is skeletal muscle atrophy, which is seen in approximately 90% of patients with this condition.'"
            ],
            "application/vnd.google.colaboratory.intrinsic+json": {
              "type": "string"
            }
          },
          "metadata": {},
          "execution_count": 13
        }
      ],
      "source": [
        "qa.run(\"What is the main symptom of LCM?\")"
      ]
    },
    {
      "cell_type": "markdown",
      "source": [
        "Perfect! The information returned is exactly what we desired.\n",
        "\n",
        "## Creating the Agent."
      ],
      "metadata": {
        "id": "pf9MXPeipEBO"
      }
    },
    {
      "cell_type": "code",
      "execution_count": 26,
      "metadata": {
        "id": "FwCYrS4duqBW"
      },
      "outputs": [],
      "source": [
        "from langchain.agents import Tool\n",
        "\n",
        "#Defining the list of tool objects to be used by LangChain.\n",
        "tools = [\n",
        "    Tool(\n",
        "        name='Medical KB',\n",
        "        func=qa.run,\n",
        "        description=(\n",
        "            'use this tool when answering medical knowledge queries to get '\n",
        "            'more information about the topic'\n",
        "        )\n",
        "    )\n",
        "]"
      ]
    },
    {
      "cell_type": "code",
      "execution_count": 15,
      "metadata": {
        "id": "JaKTzPUEvOoy",
        "colab": {
          "base_uri": "https://localhost:8080/"
        },
        "outputId": "25473da8-3b50-4ab6-b802-088d6bc03b74"
      },
      "outputs": [
        {
          "output_type": "stream",
          "name": "stderr",
          "text": [
            "/usr/local/lib/python3.10/dist-packages/langchain_core/_api/deprecation.py:117: LangChainDeprecationWarning: The function `initialize_agent` was deprecated in LangChain 0.1.0 and will be removed in 0.2.0. Use Use new agent constructor methods like create_react_agent, create_json_agent, create_structured_chat_agent, etc. instead.\n",
            "  warn_deprecated(\n"
          ]
        }
      ],
      "source": [
        "from langchain.agents import initialize_agent\n",
        "\n",
        "agent = initialize_agent(\n",
        "    agent='chat-conversational-react-description',\n",
        "    tools=tools,\n",
        "    llm=llm,\n",
        "    verbose=True,\n",
        "    max_iterations=3,\n",
        "    early_stopping_method='generate',\n",
        "    memory=conversational_memory\n",
        ")"
      ]
    },
    {
      "cell_type": "markdown",
      "metadata": {
        "id": "IlxUBWKcvzeP"
      },
      "source": [
        "### Using the Conversational Agent"
      ]
    },
    {
      "cell_type": "markdown",
      "metadata": {
        "id": "ZZapCP4Pv2kz"
      },
      "source": [
        "To make queries we simply call the `agent` directly.\n",
        "\n",
        "First i will try a order not related to the Medical field."
      ]
    },
    {
      "cell_type": "code",
      "execution_count": 16,
      "metadata": {
        "colab": {
          "base_uri": "https://localhost:8080/"
        },
        "id": "85vipqC02deV",
        "outputId": "642ec1fd-02fe-4b41-ab87-7a19f1272e9a"
      },
      "outputs": [
        {
          "output_type": "stream",
          "name": "stderr",
          "text": [
            "/usr/local/lib/python3.10/dist-packages/langchain_core/_api/deprecation.py:117: LangChainDeprecationWarning: The function `__call__` was deprecated in LangChain 0.1.0 and will be removed in 0.2.0. Use invoke instead.\n",
            "  warn_deprecated(\n"
          ]
        },
        {
          "output_type": "stream",
          "name": "stdout",
          "text": [
            "\n",
            "\n",
            "\u001b[1m> Entering new AgentExecutor chain...\u001b[0m\n",
            "\u001b[32;1m\u001b[1;3m{\n",
            "    \"action\": \"Final Answer\",\n",
            "    \"action_input\": \"The area of a square with side length 2 is 4 square units.\"\n",
            "}\u001b[0m\n",
            "\n",
            "\u001b[1m> Finished chain.\u001b[0m\n"
          ]
        },
        {
          "output_type": "execute_result",
          "data": {
            "text/plain": [
              "{'input': 'Give me the area of square of 2x2',\n",
              " 'chat_history': [],\n",
              " 'output': 'The area of a square with side length 2 is 4 square units.'}"
            ]
          },
          "metadata": {},
          "execution_count": 16
        }
      ],
      "source": [
        "agent(\"Give me the area of square of 2x2\")"
      ]
    },
    {
      "cell_type": "markdown",
      "source": [
        "Perfect, the model has responded without accessing the configured knowledge database.\n",
        "\n",
        "Now I will try with a question that is also not related to health."
      ],
      "metadata": {
        "id": "8suStMR7G11e"
      }
    },
    {
      "cell_type": "code",
      "source": [
        "agent(\"Do you know the secret identity of SuperMan?\")"
      ],
      "metadata": {
        "colab": {
          "base_uri": "https://localhost:8080/"
        },
        "id": "9YEsxEuCVgMv",
        "outputId": "8239791a-de5e-4704-f330-39e15034c9a0"
      },
      "execution_count": 17,
      "outputs": [
        {
          "output_type": "stream",
          "name": "stdout",
          "text": [
            "\n",
            "\n",
            "\u001b[1m> Entering new AgentExecutor chain...\u001b[0m\n",
            "\u001b[32;1m\u001b[1;3m{\n",
            "    \"action\": \"Final Answer\",\n",
            "    \"action_input\": \"Superman's secret identity is Clark Kent.\"\n",
            "}\u001b[0m\n",
            "\n",
            "\u001b[1m> Finished chain.\u001b[0m\n"
          ]
        },
        {
          "output_type": "execute_result",
          "data": {
            "text/plain": [
              "{'input': 'Do you know the secret identity of SuperMan?',\n",
              " 'chat_history': [HumanMessage(content='Give me the area of square of 2x2'),\n",
              "  AIMessage(content='The area of a square with side length 2 is 4 square units.')],\n",
              " 'output': \"Superman's secret identity is Clark Kent.\"}"
            ]
          },
          "metadata": {},
          "execution_count": 17
        }
      ]
    },
    {
      "cell_type": "markdown",
      "source": [
        "It has not accessed either, as the model has been able to identify that it is not a question related to the database that LangChain provides.\n",
        "\n",
        "Now it's time to try with a question related to Medicine. Let's see if the model can understand that it should first look for information in the vector database at its disposal."
      ],
      "metadata": {
        "id": "lyd0XJ3CHjVb"
      }
    },
    {
      "cell_type": "code",
      "execution_count": 27,
      "metadata": {
        "colab": {
          "base_uri": "https://localhost:8080/"
        },
        "id": "RJoAhy76vzAB",
        "outputId": "3d5cd3b8-1973-4561-e31e-8c77df22b07b"
      },
      "outputs": [
        {
          "output_type": "stream",
          "name": "stdout",
          "text": [
            "\n",
            "\n",
            "\u001b[1m> Entering new AgentExecutor chain...\u001b[0m\n",
            "\u001b[32;1m\u001b[1;3m{\n",
            "    \"action\": \"Medical KB\",\n",
            "    \"action_input\": \"fever, dry cough, mucus\"\n",
            "}\u001b[0m\n",
            "Observation: \u001b[36;1m\u001b[1;3mFever, dry cough, and mucus can be symptoms of various conditions, including respiratory infections like the common cold or flu. In these cases, the fever is usually accompanied by other symptoms such as sore throat, body aches, and fatigue. The dry cough may be persistent and can be accompanied by clear or yellow/green mucus. It's important to note that if you are coughing up blood, you should contact your doctor immediately. If you are experiencing these symptoms, it is recommended to consult with a healthcare professional for an accurate diagnosis and appropriate treatment.\u001b[0m\n",
            "Thought:\u001b[32;1m\u001b[1;3m{\n",
            "    \"action\": \"Final Answer\",\n",
            "    \"action_input\": \"Fever, dry cough, and mucus can be symptoms of various conditions, including respiratory infections like the common cold or flu. It is recommended to consult with a healthcare professional for an accurate diagnosis and appropriate treatment.\"\n",
            "}\u001b[0m\n",
            "\n",
            "\u001b[1m> Finished chain.\u001b[0m\n"
          ]
        },
        {
          "output_type": "execute_result",
          "data": {
            "text/plain": [
              "{'input': 'It seems I have a bit of fever, dry cough, and mucus, what could it be?',\n",
              " 'chat_history': [HumanMessage(content='Can it be prevented?'),\n",
              "  AIMessage(content='To prevent Lymphocytic choriomeningitis (LCM), it is important to take precautions such as avoiding contact with rodents, practicing good hygiene, using insect repellent, wearing protective clothing, and practicing safe handling of rodents.'),\n",
              "  HumanMessage(content='It seems I have a bit of fever, dry cough, and mucus, what could it be?'),\n",
              "  AIMessage(content=\"Fever, dry cough, and mucus can be symptoms of various conditions, including respiratory infections like the common cold or flu. In these cases, the fever is usually accompanied by other symptoms such as sore throat, body aches, and fatigue. The dry cough may be persistent and can be accompanied by clear or yellow/green mucus. It's important to note that if you are coughing up blood, you should contact your doctor immediately. If you are experiencing these symptoms, it is recommended to consult with a healthcare professional for an accurate diagnosis and appropriate treatment.\"),\n",
              "  HumanMessage(content='The paciet is pregnat, is this a risk for the fetus?'),\n",
              "  AIMessage(content='Pregnancy can carry certain risks for the fetus, depending on various factors. It is important for pregnant individuals to receive proper prenatal care and discuss any concerns with their healthcare provider.'),\n",
              "  HumanMessage(content=\"I'm pregnat, is this a risk for the fetus?\"),\n",
              "  AIMessage(content='Pregnancy can carry certain risks for the fetus, depending on various factors. It is important for pregnant individuals to receive proper prenatal care and discuss any concerns with their healthcare provider.')],\n",
              " 'output': 'Fever, dry cough, and mucus can be symptoms of various conditions, including respiratory infections like the common cold or flu. It is recommended to consult with a healthcare professional for an accurate diagnosis and appropriate treatment.'}"
            ]
          },
          "metadata": {},
          "execution_count": 27
        }
      ],
      "source": [
        "agent(\"It seems I have a bit of fever, dry cough, and mucus, what could it be?\")"
      ]
    },
    {
      "cell_type": "markdown",
      "source": [
        "Perfect, the most important thing for us is that it has been able to identify that it should go to the medical database to search for information about the symptoms."
      ],
      "metadata": {
        "id": "8lsaoF8nJNnR"
      }
    },
    {
      "cell_type": "code",
      "execution_count": 28,
      "metadata": {
        "colab": {
          "base_uri": "https://localhost:8080/"
        },
        "id": "mQeicHTj2pmY",
        "outputId": "db8e80be-12b2-4c14-d917-4d0a7b9e612a"
      },
      "outputs": [
        {
          "output_type": "stream",
          "name": "stdout",
          "text": [
            "\n",
            "\n",
            "\u001b[1m> Entering new AgentExecutor chain...\u001b[0m\n",
            "\u001b[32;1m\u001b[1;3m{\n",
            "    \"action\": \"Medical KB\",\n",
            "    \"action_input\": \"Is fever, dry cough, and mucus a sign of a serious illness?\"\n",
            "}\u001b[0m\n",
            "Observation: \u001b[36;1m\u001b[1;3mFever, dry cough, and mucus can be symptoms of a serious illness, but they can also be symptoms of more common conditions like a cold or flu. It's important to consider other factors such as the severity and duration of the symptoms, as well as any other accompanying symptoms, to determine the seriousness of the illness. If you are concerned about your symptoms, it is best to consult with a healthcare professional for an accurate diagnosis and appropriate treatment.\u001b[0m\n",
            "Thought:\u001b[32;1m\u001b[1;3m{\n",
            "    \"action\": \"Final Answer\",\n",
            "    \"action_input\": \"Fever, dry cough, and mucus can be symptoms of a serious illness, but they can also be symptoms of more common conditions like a cold or flu. It's important to consider other factors such as the severity and duration of the symptoms, as well as any other accompanying symptoms, to determine the seriousness of the illness. If you are concerned about your symptoms, it is best to consult with a healthcare professional for an accurate diagnosis and appropriate treatment.\"\n",
            "}\u001b[0m\n",
            "\n",
            "\u001b[1m> Finished chain.\u001b[0m\n"
          ]
        },
        {
          "output_type": "execute_result",
          "data": {
            "text/plain": [
              "{'input': 'Is this a serious illness?',\n",
              " 'chat_history': [HumanMessage(content='It seems I have a bit of fever, dry cough, and mucus, what could it be?'),\n",
              "  AIMessage(content=\"Fever, dry cough, and mucus can be symptoms of various conditions, including respiratory infections like the common cold or flu. In these cases, the fever is usually accompanied by other symptoms such as sore throat, body aches, and fatigue. The dry cough may be persistent and can be accompanied by clear or yellow/green mucus. It's important to note that if you are coughing up blood, you should contact your doctor immediately. If you are experiencing these symptoms, it is recommended to consult with a healthcare professional for an accurate diagnosis and appropriate treatment.\"),\n",
              "  HumanMessage(content='The paciet is pregnat, is this a risk for the fetus?'),\n",
              "  AIMessage(content='Pregnancy can carry certain risks for the fetus, depending on various factors. It is important for pregnant individuals to receive proper prenatal care and discuss any concerns with their healthcare provider.'),\n",
              "  HumanMessage(content=\"I'm pregnat, is this a risk for the fetus?\"),\n",
              "  AIMessage(content='Pregnancy can carry certain risks for the fetus, depending on various factors. It is important for pregnant individuals to receive proper prenatal care and discuss any concerns with their healthcare provider.'),\n",
              "  HumanMessage(content='It seems I have a bit of fever, dry cough, and mucus, what could it be?'),\n",
              "  AIMessage(content='Fever, dry cough, and mucus can be symptoms of various conditions, including respiratory infections like the common cold or flu. It is recommended to consult with a healthcare professional for an accurate diagnosis and appropriate treatment.')],\n",
              " 'output': \"Fever, dry cough, and mucus can be symptoms of a serious illness, but they can also be symptoms of more common conditions like a cold or flu. It's important to consider other factors such as the severity and duration of the symptoms, as well as any other accompanying symptoms, to determine the seriousness of the illness. If you are concerned about your symptoms, it is best to consult with a healthcare professional for an accurate diagnosis and appropriate treatment.\"}"
            ]
          },
          "metadata": {},
          "execution_count": 28
        }
      ],
      "source": [
        "agent(\"Is this a serious illness?\")"
      ]
    },
    {
      "cell_type": "markdown",
      "source": [
        "And the memory works perfectly. We can maintain a conversation, taking into account that the model knows the previous questions and answers.\n",
        "\n",
        "# Conclusions.\n",
        "El experimento ha sido un pequeño Exito. Se ha configurado la base de datos de Vectores se ha llenado con información del Dataset. Se ha creado un agente de Langchain, y este ha sido capaz de ir a buscar la información a la base de datos tan solo cuando ha sido necesario. Sin olvidar que nuestro ChatBot tiene memoria.\n",
        "\n",
        "Todo esto en unas pocas lineas de código!\n"
      ],
      "metadata": {
        "id": "gdyhyd6nJnwN"
      }
    },
    {
      "cell_type": "markdown",
      "metadata": {
        "id": "Ykg5TYA033yR"
      },
      "source": [
        "---"
      ]
    }
  ],
  "metadata": {
    "colab": {
      "provenance": [],
      "machine_shape": "hm",
      "gpuType": "V100",
      "include_colab_link": true
    },
    "kernelspec": {
      "display_name": "Python 3",
      "name": "python3"
    },
    "language_info": {
      "name": "python",
      "version": "3.9.12"
    }
  },
  "nbformat": 4,
  "nbformat_minor": 0
}